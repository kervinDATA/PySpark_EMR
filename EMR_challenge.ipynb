{
 "cells": [
  {
   "cell_type": "code",
   "execution_count": 7,
   "id": "cf53c0f7-02e9-4136-a593-3047242e6e66",
   "metadata": {},
   "outputs": [
    {
     "name": "stdout",
     "output_type": "stream",
     "text": [
      "+-------------+---------------+-----------------+-------------+-----------------+-------------------+------------+---------------------+--------------------+--------------------+--------------------+--------------------+------------------+--------------------+-----------------------+-----------------+--------------------+------------------+--------------+------------+--------------------+------------------+----------------+-------+-------------+-----------+--------------+------------+---------------+-----------+--------+--------------------+-------------------+------------------+------------+-------+--------------------+--------------------+-------------------+----------------+---------------------+--------------------+--------------------+------------------------------+-------+-------------------+------------------+---------+--------+-------------------+--------------------------------------------------+-----------------------------------------+---------+-------------+-------------------------+------------------------+--------------------+-------------------+\n",
      "|Nom aménageur|SIREN aménageur|Contact aménageur|Nom opérateur|Contact opérateur|Téléphone opérateur|Nom enseigne|ID station itinérance|    ID station local|         Nom station|Implantation station|     Adresse station|Code INSEE commune|         Coordonnées|Nombre Points de charge|ID PDC itinérance|        ID PDC local|Puissance nominale|Prise type E/F|Prise type 2|Prise type combo ccs|Prise type chademo|Prise type autre|Gratuit|Paiement acte|Paiement CB|Paiement autre|Tarification|Condition accès|Réservation|Horaires|   Accessibilité PMR|Restriction gabarit|Station deux roues|Raccordement|Num PDL|Date mise en service|        Observations|Date de Mise à Jour|cable_t2_attache|Dernière modification| datagouv dataset id|datagouv resource id|datagouv organization or owner|is_orga|         created_at|             coord|longitude|latitude|          point_geo|Nom de la commune ou de l'arrondissement municipal|Code de la commune ou de l'arrondissement|Code EPCI|Nom de l'EPCI|Code Officiel Département|Nom Officiel Département|Code Officiel Région|Nom Officiel Région|\n",
      "+-------------+---------------+-----------------+-------------+-----------------+-------------------+------------+---------------------+--------------------+--------------------+--------------------+--------------------+------------------+--------------------+-----------------------+-----------------+--------------------+------------------+--------------+------------+--------------------+------------------+----------------+-------+-------------+-----------+--------------+------------+---------------+-----------+--------+--------------------+-------------------+------------------+------------+-------+--------------------+--------------------+-------------------+----------------+---------------------+--------------------+--------------------+------------------------------+-------+-------------------+------------------+---------+--------+-------------------+--------------------------------------------------+-----------------------------------------+---------+-------------+-------------------------+------------------------+--------------------+-------------------+\n",
      "|        QPARK|           NULL|             NULL|       Izivia|   sav@izivia.com|         0972668001|       QPARK|      FRQPKPQPRK97201|FR*SOD*S*QPRK*97*...|QPARK - CHARTRES ...|              Voirie|25 RUE DU FAUBOUR...|             28000|[48.449788,1.481195]|                      1|  FRQPKEQPRK97201|FR*SOD*E*QPRK*97*...|                 7|             0|           0|                   0|                 0|               0|      0|            1|          0|             1|        NULL|    Accès libre|          0|    24/7|Accessibilité inc...| Aucune Restriction|                 0|      Direct|      0|          2023-01-19|Conditions accès ...|         2024-02-05|               0|  2024-02-06 00:37:54|6509b499adbfba01b...|a2a9e3fb-2f0a-486...|                        izivia|   true|2023-09-19 14:48:09|48.449788;1.481195|48.449788|1.481195|1.481195, 48.449788|                                              NULL|                                     NULL|     NULL|         NULL|                     NULL|                    NULL|                NULL|               NULL|\n",
      "+-------------+---------------+-----------------+-------------+-----------------+-------------------+------------+---------------------+--------------------+--------------------+--------------------+--------------------+------------------+--------------------+-----------------------+-----------------+--------------------+------------------+--------------+------------+--------------------+------------------+----------------+-------+-------------+-----------+--------------+------------+---------------+-----------+--------+--------------------+-------------------+------------------+------------+-------+--------------------+--------------------+-------------------+----------------+---------------------+--------------------+--------------------+------------------------------+-------+-------------------+------------------+---------+--------+-------------------+--------------------------------------------------+-----------------------------------------+---------+-------------+-------------------------+------------------------+--------------------+-------------------+\n",
      "only showing top 1 row\n",
      "\n"
     ]
    }
   ],
   "source": [
    "from pyspark.sql import SparkSession\n",
    "from pyspark.sql import functions as F\n",
    "\n",
    "spark = SparkSession.builder.appName(\"MobilityDataset\").getOrCreate()\n",
    "\n",
    "filepath = \"/data/mobilityref-france-irve-220.csv\"\n",
    "df = spark.read.option(\"sep\", \";\").option(\"inferSchema\", \"true\").option(\"header\", \"True\").csv(filepath)\n",
    "\n",
    "df.show(1)"
   ]
  },
  {
   "cell_type": "code",
   "execution_count": null,
   "id": "8db90c17-2d74-47b4-aee6-37ca8130acdc",
   "metadata": {},
   "outputs": [],
   "source": []
  },
  {
   "cell_type": "code",
   "execution_count": 8,
   "id": "c814c514-61ee-450d-93cd-21e477a75be0",
   "metadata": {},
   "outputs": [
    {
     "name": "stdout",
     "output_type": "stream",
     "text": [
      "+--------------------+-----+\n",
      "|       Nom aménageur|count|\n",
      "+--------------------+-----+\n",
      "|TotalEnergies Cha...| 5428|\n",
      "|             DRIVECO| 4249|\n",
      "|       INDIGO FRANCE| 3839|\n",
      "|    Power Dot France| 3401|\n",
      "|               SPBR1| 2645|\n",
      "+--------------------+-----+\n",
      "\n"
     ]
    }
   ],
   "source": [
    "# Compter le nombre d'occurrences de chaque \"Nom aménageur\" et trier par ordre décroissant\n",
    "top_amenageurs = df.groupBy(\"Nom aménageur\") \\\n",
    "                   .agg(F.count(\"Nom aménageur\").alias(\"count\")) \\\n",
    "                   .sort(F.desc(\"count\")) \\\n",
    "                   .limit(5)\n",
    "\n",
    "top_amenageurs.show()"
   ]
  },
  {
   "cell_type": "code",
   "execution_count": null,
   "id": "d337b1a7-902d-417d-abc6-e215561e505b",
   "metadata": {},
   "outputs": [],
   "source": []
  },
  {
   "cell_type": "code",
   "execution_count": 9,
   "id": "d124d81d-b3ea-41b9-9f56-f511a76dcee3",
   "metadata": {},
   "outputs": [
    {
     "name": "stdout",
     "output_type": "stream",
     "text": [
      "+--------------------+-----------------+\n",
      "|         Nom station|Max_Points_Charge|\n",
      "+--------------------+-----------------+\n",
      "|SAEMES | Parking ...|              505|\n",
      "|Parking Hopital d...|              448|\n",
      "|Parking ACCOR Cas...|              384|\n",
      "|Station de rechar...|              352|\n",
      "|SAEMES | Parking ...|              350|\n",
      "+--------------------+-----------------+\n",
      "\n"
     ]
    }
   ],
   "source": [
    "# Trouver les 5 stations avec le plus grand nombre de \"Nombre Points de charge\"\n",
    "top_stations = df.groupBy(\"Nom station\") \\\n",
    "                 .agg(F.max(\"Nombre Points de charge\").alias(\"Max_Points_Charge\")) \\\n",
    "                 .sort(F.desc(\"Max_Points_Charge\")) \\\n",
    "                 .limit(5)\n",
    "\n",
    "top_stations.show()\n"
   ]
  },
  {
   "cell_type": "code",
   "execution_count": null,
   "id": "83db905a-fe0b-430e-8d79-f2b56adde1e4",
   "metadata": {},
   "outputs": [],
   "source": []
  },
  {
   "cell_type": "code",
   "execution_count": 10,
   "id": "91cdb5b1-a45e-45f0-8d83-1635705ac491",
   "metadata": {},
   "outputs": [],
   "source": [
    "# Arrêt de la SparkSession\n",
    "spark.stop()"
   ]
  },
  {
   "cell_type": "code",
   "execution_count": null,
   "id": "d21b893b-4818-4443-a291-7bc9c5a31325",
   "metadata": {},
   "outputs": [],
   "source": []
  },
  {
   "cell_type": "code",
   "execution_count": null,
   "id": "1e90cf66-fc72-45fa-8cc1-5602918b124c",
   "metadata": {},
   "outputs": [],
   "source": []
  },
  {
   "cell_type": "code",
   "execution_count": null,
   "id": "6dd932b9-8cba-4b06-8d4d-52aed78dbf07",
   "metadata": {},
   "outputs": [],
   "source": []
  }
 ],
 "metadata": {
  "kernelspec": {
   "display_name": "Python 3 (ipykernel)",
   "language": "python",
   "name": "python3"
  },
  "language_info": {
   "codemirror_mode": {
    "name": "ipython",
    "version": 3
   },
   "file_extension": ".py",
   "mimetype": "text/x-python",
   "name": "python",
   "nbconvert_exporter": "python",
   "pygments_lexer": "ipython3",
   "version": "3.11.6"
  }
 },
 "nbformat": 4,
 "nbformat_minor": 5
}
